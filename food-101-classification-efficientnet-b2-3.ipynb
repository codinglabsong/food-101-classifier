{
 "cells": [
  {
   "cell_type": "markdown",
   "id": "f8dcbd93",
   "metadata": {
    "papermill": {
     "duration": 0.00484,
     "end_time": "2025-05-21T07:33:16.768681",
     "exception": false,
     "start_time": "2025-05-21T07:33:16.763841",
     "status": "completed"
    },
    "tags": []
   },
   "source": [
    "# Read_Me\n",
    "- Recommended python >= 3.7\n",
    "-  PyTorch 2.0+ "
   ]
  },
  {
   "cell_type": "code",
   "execution_count": 1,
   "id": "34e38cc6",
   "metadata": {
    "_cell_guid": "b1076dfc-b9ad-4769-8c92-a6c4dae69d19",
    "_uuid": "8f2839f25d086af736a60e9eeb907d3b93b6e0e5",
    "execution": {
     "iopub.execute_input": "2025-05-21T07:33:16.777622Z",
     "iopub.status.busy": "2025-05-21T07:33:16.777324Z",
     "iopub.status.idle": "2025-05-21T07:33:25.934001Z",
     "shell.execute_reply": "2025-05-21T07:33:25.933404Z"
    },
    "papermill": {
     "duration": 9.162715,
     "end_time": "2025-05-21T07:33:25.935433",
     "exception": false,
     "start_time": "2025-05-21T07:33:16.772718",
     "status": "completed"
    },
    "tags": []
   },
   "outputs": [],
   "source": [
    "from __future__ import annotations\n",
    "import os, time, random                          # built-in Python utilities\n",
    "from pathlib import Path                         # nice object for filesystem paths\n",
    "from typing import Dict, Tuple, Optional\n",
    "\n",
    "import matplotlib.pyplot as plt\n",
    "import numpy as np                               # maths library (arrays)\n",
    "import torch                                     # the main deep-learning library\n",
    "import torch.nn as nn                            # “nn” = neural-network layers\n",
    "import torch.optim as optim                      # optimisers (SGD, Adam, …)\n",
    "from torch.amp import autocast, GradScaler\n",
    "from torch.optim.lr_scheduler import OneCycleLR  # learning-rate scheduler\n",
    "from torch.utils.data import (\n",
    "    DataLoader, random_split, Subset)            # dataset helpers\n",
    "from torchvision import (\n",
    "    datasets, models, transforms)                # ready-made datasets, models, image tools"
   ]
  },
  {
   "cell_type": "code",
   "execution_count": 2,
   "id": "7f678db3",
   "metadata": {
    "execution": {
     "iopub.execute_input": "2025-05-21T07:33:25.944604Z",
     "iopub.status.busy": "2025-05-21T07:33:25.944015Z",
     "iopub.status.idle": "2025-05-21T07:33:25.948171Z",
     "shell.execute_reply": "2025-05-21T07:33:25.947685Z"
    },
    "papermill": {
     "duration": 0.009557,
     "end_time": "2025-05-21T07:33:25.949129",
     "exception": false,
     "start_time": "2025-05-21T07:33:25.939572",
     "status": "completed"
    },
    "tags": []
   },
   "outputs": [],
   "source": [
    "# Hyper-parameters\n",
    "SEED               = 42          # fixed random-seed → reproducible run\n",
    "DATA_DIR           = Path(\"data/food101\")\n",
    "BATCH_SIZE         = 128          # images per mini-batch\n",
    "NUM_EPOCHS_PHASE1  = 10 # 10          # train the new classifier head\n",
    "NUM_EPOCHS_PHASE2  = 8 # 6           # optional fine-tune of backbone\n",
    "LR_HEAD            = 4e-3        # learning-rate for head\n",
    "LR_BACKBONE        = 4e-4        # lower LR when we unfreeze backbone\n",
    "PATIENCE           = 3           # early-stop if no val-improve for N epochs\n",
    "NUM_WORKERS        = 3           # CPU processes that feed images\n",
    "CKPT_DIR           = Path(\"checkpoints\")  # where to save model checkpoints during training\n",
    "CKPT_DIR.mkdir(parents=True, exist_ok=True)  # create that folder if missing"
   ]
  },
  {
   "cell_type": "code",
   "execution_count": 3,
   "id": "f3d6ff46",
   "metadata": {
    "execution": {
     "iopub.execute_input": "2025-05-21T07:33:25.957168Z",
     "iopub.status.busy": "2025-05-21T07:33:25.956990Z",
     "iopub.status.idle": "2025-05-21T07:33:25.966765Z",
     "shell.execute_reply": "2025-05-21T07:33:25.966125Z"
    },
    "papermill": {
     "duration": 0.015037,
     "end_time": "2025-05-21T07:33:25.967846",
     "exception": false,
     "start_time": "2025-05-21T07:33:25.952809",
     "status": "completed"
    },
    "tags": []
   },
   "outputs": [
    {
     "name": "stdout",
     "output_type": "stream",
     "text": [
      "Setting seed: 42\n"
     ]
    }
   ],
   "source": [
    "# Reproducibility\n",
    "def set_seed(seed: int) -> None:\n",
    "    random.seed(seed)                  # vanilla Python Random Number Generator (RNG)\n",
    "    np.random.seed(seed)               # NumPy RNG\n",
    "    torch.manual_seed(seed)            # CPU-side torch RNG\n",
    "    torch.cuda.manual_seed_all(seed)   # all GPU RNGs\n",
    "    # torch.backends.cudnn.deterministic = True  # force deterministic conv kernels\n",
    "    # torch.backends.cudnn.benchmark = False     # trade speed for reproducibility\n",
    "set_seed(SEED)\n",
    "print(f\"Setting seed: {SEED}\")"
   ]
  },
  {
   "cell_type": "markdown",
   "id": "d727bf25",
   "metadata": {
    "papermill": {
     "duration": 0.003509,
     "end_time": "2025-05-21T07:33:25.975166",
     "exception": false,
     "start_time": "2025-05-21T07:33:25.971657",
     "status": "completed"
    },
    "tags": []
   },
   "source": [
    "I previously forced determinism (good for reproducibility) but it prevents CuDNN from picking its fastest kernels. Therefore removed bottom two booleans."
   ]
  },
  {
   "cell_type": "code",
   "execution_count": 4,
   "id": "71595a77",
   "metadata": {
    "execution": {
     "iopub.execute_input": "2025-05-21T07:33:25.983369Z",
     "iopub.status.busy": "2025-05-21T07:33:25.982998Z",
     "iopub.status.idle": "2025-05-21T07:33:26.045962Z",
     "shell.execute_reply": "2025-05-21T07:33:26.045244Z"
    },
    "papermill": {
     "duration": 0.068204,
     "end_time": "2025-05-21T07:33:26.047038",
     "exception": false,
     "start_time": "2025-05-21T07:33:25.978834",
     "status": "completed"
    },
    "tags": []
   },
   "outputs": [
    {
     "name": "stdout",
     "output_type": "stream",
     "text": [
      "Using: cuda\n"
     ]
    }
   ],
   "source": [
    "# Choose device\n",
    "DEVICE = torch.device(\"cuda\" if torch.cuda.is_available() else \"cpu\")\n",
    "print(f\"Using: {DEVICE}\")"
   ]
  },
  {
   "cell_type": "code",
   "execution_count": 5,
   "id": "12179ee1",
   "metadata": {
    "execution": {
     "iopub.execute_input": "2025-05-21T07:33:26.056005Z",
     "iopub.status.busy": "2025-05-21T07:33:26.055537Z",
     "iopub.status.idle": "2025-05-21T07:33:26.060280Z",
     "shell.execute_reply": "2025-05-21T07:33:26.059775Z"
    },
    "papermill": {
     "duration": 0.010223,
     "end_time": "2025-05-21T07:33:26.061365",
     "exception": false,
     "start_time": "2025-05-21T07:33:26.051142",
     "status": "completed"
    },
    "tags": []
   },
   "outputs": [],
   "source": [
    "# Image Transforms\n",
    "IMG_SIZE = 224 # final height/width\n",
    "\n",
    "train_tfms = transforms.Compose([\n",
    "    transforms.RandomResizedCrop(IMG_SIZE),    # random crop + resize (data-aug)\n",
    "    transforms.RandomHorizontalFlip(),         # 50 % mirror (data-aug)\n",
    "    transforms.ToTensor(),                     # H×W×C → C×H×W in [0,1]\n",
    "    transforms.Normalize([0.485,0.456,0.406],  # ImageNet distribution\n",
    "                         [0.229,0.224,0.225])\n",
    "])\n",
    "val_tfms = transforms.Compose([\n",
    "    transforms.Resize(256),                    # shrink so short edge=256\n",
    "    transforms.CenterCrop(IMG_SIZE),           # take middle 224×224 window\n",
    "    transforms.ToTensor(),\n",
    "    transforms.Normalize([0.485,0.456,0.406],  # ImageNet distribution\n",
    "                         [0.229,0.224,0.225])\n",
    "])"
   ]
  },
  {
   "cell_type": "markdown",
   "id": "d52c39d1",
   "metadata": {
    "papermill": {
     "duration": 0.003503,
     "end_time": "2025-05-21T07:33:26.068666",
     "exception": false,
     "start_time": "2025-05-21T07:33:26.065163",
     "status": "completed"
    },
    "tags": []
   },
   "source": [
    "For validation, we first `Resize` the image to 256 before `CenterCrop`, because we would like to consistenly capture most of the image. Unless we use `Resize`, images smaller than 224 px width and height will raise an error, while very small portions of large images would be cut out. Therefore, `Resize` is an important step before croping the center."
   ]
  },
  {
   "cell_type": "code",
   "execution_count": 6,
   "id": "cd9fa500",
   "metadata": {
    "execution": {
     "iopub.execute_input": "2025-05-21T07:33:26.076776Z",
     "iopub.status.busy": "2025-05-21T07:33:26.076561Z",
     "iopub.status.idle": "2025-05-21T07:38:01.951861Z",
     "shell.execute_reply": "2025-05-21T07:38:01.951239Z"
    },
    "papermill": {
     "duration": 275.880999,
     "end_time": "2025-05-21T07:38:01.953352",
     "exception": false,
     "start_time": "2025-05-21T07:33:26.072353",
     "status": "completed"
    },
    "tags": []
   },
   "outputs": [
    {
     "name": "stdout",
     "output_type": "stream",
     "text": [
      "Downloading Food-101 Dataset…\n"
     ]
    },
    {
     "name": "stderr",
     "output_type": "stream",
     "text": [
      "100%|██████████| 5.00G/5.00G [03:34<00:00, 23.3MB/s]\n"
     ]
    }
   ],
   "source": [
    "# Download + split dataset into train, val, test sets\n",
    "print(\"Downloading Food-101 Dataset…\")\n",
    "full_train = datasets.Food101(root=DATA_DIR, split=\"train\", \n",
    "                              transform=train_tfms, download=True)\n",
    "test_set =   datasets.Food101(root=DATA_DIR, split=\"test\", \n",
    "                              transform=val_tfms, download=True)\n",
    "\n",
    "train_len = int(0.8 * len(full_train)) # 80 %\n",
    "val_len = len(full_train) - train_len # 20 %\n",
    "\n",
    "train_set, val_tmp = random_split(\n",
    "    full_train,\n",
    "    lengths=[train_len, val_len],\n",
    "    generator=torch.Generator().manual_seed(SEED) # reproducible indices\n",
    ")\n",
    "\n",
    "val_set = Subset(\n",
    "    datasets.Food101(root=DATA_DIR, split=\"train\", transform=val_tfms, download=True),\n",
    "    val_tmp.indices # reuse exact same images but w/ val transforms\n",
    ")"
   ]
  },
  {
   "cell_type": "code",
   "execution_count": 7,
   "id": "d40af564",
   "metadata": {
    "execution": {
     "iopub.execute_input": "2025-05-21T07:38:02.076952Z",
     "iopub.status.busy": "2025-05-21T07:38:02.076241Z",
     "iopub.status.idle": "2025-05-21T07:38:02.081627Z",
     "shell.execute_reply": "2025-05-21T07:38:02.080948Z"
    },
    "papermill": {
     "duration": 0.068202,
     "end_time": "2025-05-21T07:38:02.082688",
     "exception": false,
     "start_time": "2025-05-21T07:38:02.014486",
     "status": "completed"
    },
    "tags": []
   },
   "outputs": [
    {
     "name": "stdout",
     "output_type": "stream",
     "text": [
      "Data ready. len(train)=60600, len(val)=15150, len(test)=25250\n"
     ]
    }
   ],
   "source": [
    "loaders = {\n",
    "    \"train\": DataLoader(train_set, batch_size=BATCH_SIZE,\n",
    "                       shuffle=True, num_workers=NUM_WORKERS, pin_memory=True),\n",
    "    \"val\":   DataLoader(val_set, batch_size=BATCH_SIZE,\n",
    "                       shuffle=True, num_workers=NUM_WORKERS, pin_memory=True),\n",
    "    \"test\":  DataLoader(test_set, batch_size=BATCH_SIZE,\n",
    "                       shuffle=True, num_workers=NUM_WORKERS, pin_memory=True)\n",
    "}\n",
    "class_names = full_train.classes\n",
    "print(f\"Data ready. len(train)={len(train_set)}, len(val)={len(val_set)}, len(test)={len(test_set)}\")"
   ]
  },
  {
   "cell_type": "markdown",
   "id": "c01b18a1",
   "metadata": {
    "papermill": {
     "duration": 0.100226,
     "end_time": "2025-05-21T07:38:02.247062",
     "exception": false,
     "start_time": "2025-05-21T07:38:02.146836",
     "status": "completed"
    },
    "tags": []
   },
   "source": [
    "`num_workers` tells PyTorch how many separate CPU processes to use for loading and preprocessing data in parallel. You can use less workers for easier developing (2-4) and debugging (0), but use 4, 6, or 8 depending on your CPU worker number for serious training runs.\n",
    "\n",
    "When `pin_memory=True`, PyTorch can use a faster path to move data from CPU to GPU. This can give a small but meaningful speed boost during training, but does not help when training only on CPU."
   ]
  },
  {
   "cell_type": "markdown",
   "id": "75b78fff",
   "metadata": {
    "papermill": {
     "duration": 0.060923,
     "end_time": "2025-05-21T07:38:02.375542",
     "exception": false,
     "start_time": "2025-05-21T07:38:02.314619",
     "status": "completed"
    },
    "tags": []
   },
   "source": [
    "## Test Different CPU Worker Speeds"
   ]
  },
  {
   "cell_type": "code",
   "execution_count": 8,
   "id": "f806c6fe",
   "metadata": {
    "execution": {
     "iopub.execute_input": "2025-05-21T07:38:02.511100Z",
     "iopub.status.busy": "2025-05-21T07:38:02.510327Z",
     "iopub.status.idle": "2025-05-21T07:38:02.515084Z",
     "shell.execute_reply": "2025-05-21T07:38:02.514309Z"
    },
    "papermill": {
     "duration": 0.067926,
     "end_time": "2025-05-21T07:38:02.516501",
     "exception": false,
     "start_time": "2025-05-21T07:38:02.448575",
     "status": "completed"
    },
    "tags": []
   },
   "outputs": [
    {
     "name": "stdout",
     "output_type": "stream",
     "text": [
      "4\n"
     ]
    }
   ],
   "source": [
    "import os\n",
    "print(os.cpu_count()) # check your CPU worker number"
   ]
  },
  {
   "cell_type": "code",
   "execution_count": 9,
   "id": "bfebf6ec",
   "metadata": {
    "execution": {
     "iopub.execute_input": "2025-05-21T07:38:02.666183Z",
     "iopub.status.busy": "2025-05-21T07:38:02.665463Z",
     "iopub.status.idle": "2025-05-21T07:38:05.249120Z",
     "shell.execute_reply": "2025-05-21T07:38:05.248094Z"
    },
    "papermill": {
     "duration": 2.655002,
     "end_time": "2025-05-21T07:38:05.250353",
     "exception": false,
     "start_time": "2025-05-21T07:38:02.595351",
     "status": "completed"
    },
    "tags": []
   },
   "outputs": [
    {
     "name": "stdout",
     "output_type": "stream",
     "text": [
      "Time for 10 batches: 2.58s. Using 4 cpu workers.\n"
     ]
    }
   ],
   "source": [
    "# Training loader\n",
    "test_num_workers = 4\n",
    "\n",
    "train_loader = DataLoader(\n",
    "    train_set,\n",
    "    batch_size=64,\n",
    "    shuffle=True,\n",
    "    num_workers=test_num_workers,\n",
    "    pin_memory=True\n",
    ")\n",
    "\n",
    "import time\n",
    "start = time.time()\n",
    "for i, batch in enumerate(train_loader):\n",
    "    if i == 10: break  # just test 10 batches\n",
    "print(f\"Time for 10 batches: {time.time() - start:.2f}s. Using {test_num_workers} cpu workers.\")"
   ]
  },
  {
   "cell_type": "code",
   "execution_count": 10,
   "id": "181be2eb",
   "metadata": {
    "execution": {
     "iopub.execute_input": "2025-05-21T07:38:05.372471Z",
     "iopub.status.busy": "2025-05-21T07:38:05.372158Z",
     "iopub.status.idle": "2025-05-21T07:38:06.116511Z",
     "shell.execute_reply": "2025-05-21T07:38:06.115849Z"
    },
    "papermill": {
     "duration": 0.806564,
     "end_time": "2025-05-21T07:38:06.117719",
     "exception": false,
     "start_time": "2025-05-21T07:38:05.311155",
     "status": "completed"
    },
    "tags": []
   },
   "outputs": [
    {
     "name": "stderr",
     "output_type": "stream",
     "text": [
      "Downloading: \"https://download.pytorch.org/models/efficientnet_b2_rwightman-c35c1473.pth\" to /root/.cache/torch/hub/checkpoints/efficientnet_b2_rwightman-c35c1473.pth\n",
      "100%|██████████| 35.2M/35.2M [00:00<00:00, 88.5MB/s]\n"
     ]
    },
    {
     "name": "stdout",
     "output_type": "stream",
     "text": [
      "GPU CC 6.x detected – skipping torch.compile()\n"
     ]
    }
   ],
   "source": [
    "# Create the model\n",
    "def build_model(num_classes: int) -> nn.Module:\n",
    "    model = models.efficientnet_b2(weights=models.EfficientNet_B2_Weights.IMAGENET1K_V1)\n",
    "    for p in model.parameters():\n",
    "        p.requires_grad = False # freeze all backbone layers\n",
    "    in_features = model.classifier[1].in_features # incoming dims to classifier\n",
    "    model.classifier[1] = nn.Linear(in_features, num_classes) # new classifier head\n",
    "    return model.to(DEVICE)\n",
    "\n",
    "model = build_model(len(class_names))\n",
    "\n",
    "# try compile if supported:\n",
    "if DEVICE.type == \"cuda\" and torch.cuda.is_available():\n",
    "    cap = torch.cuda.get_device_properties(DEVICE).major\n",
    "    if cap >= 7:\n",
    "        model = torch.compile(model)\n",
    "    else:\n",
    "        print(f\"GPU CC {cap}.x detected – skipping torch.compile()\")\n",
    "        \n",
    "criterion = nn.CrossEntropyLoss() # standard multi-class loss"
   ]
  },
  {
   "cell_type": "markdown",
   "id": "75fa4963",
   "metadata": {
    "papermill": {
     "duration": 0.058945,
     "end_time": "2025-05-21T07:38:06.236658",
     "exception": false,
     "start_time": "2025-05-21T07:38:06.177713",
     "status": "completed"
    },
    "tags": []
   },
   "source": [
    "We load EfficientNet-B2 pretrained on ImageNet. EfficientNet-B2 is the sweet spot: under 10 M parameters and just ~1 GFLOP. You’ll get very fast per-batch times on a P100, low memory use, and still close to 81 % top-1 on ImageNet—so fine-tuned on Food-101 you can expect strong performance in a few epochs.\n",
    "Freeze it → only the new final layer learns at first."
   ]
  },
  {
   "cell_type": "code",
   "execution_count": 11,
   "id": "c7c05baa",
   "metadata": {
    "execution": {
     "iopub.execute_input": "2025-05-21T07:38:06.358709Z",
     "iopub.status.busy": "2025-05-21T07:38:06.358409Z",
     "iopub.status.idle": "2025-05-21T07:38:06.367241Z",
     "shell.execute_reply": "2025-05-21T07:38:06.366732Z"
    },
    "papermill": {
     "duration": 0.071307,
     "end_time": "2025-05-21T07:38:06.368223",
     "exception": false,
     "start_time": "2025-05-21T07:38:06.296916",
     "status": "completed"
    },
    "tags": []
   },
   "outputs": [],
   "source": [
    "# Utility\n",
    "scaler = GradScaler()\n",
    "\n",
    "def epoch_loop (phase: str, \n",
    "                model: nn.Module, \n",
    "                loader: DataLoader, \n",
    "                optimizer: Optional[torch.optim.Optimizer] = None,\n",
    "                scheduler: Optional[torch.optim.lr_scheduler._LRScheduler] = None,\n",
    "                epoch_idx: int = 0\n",
    "               ) -> Tuple[float, float]:\n",
    "    is_train = optimizer is not None\n",
    "    model.train() if is_train else model.eval()\n",
    "\n",
    "    run_loss, run_correct, imgs_processed = 0.0, 0, 0\n",
    "    t0 = time.time()\n",
    "\n",
    "    with torch.set_grad_enabled(is_train):\n",
    "        for x, y in loader:                           # mini-batch loop\n",
    "            optimizer.zero_grad(set_to_none=True) if is_train else None # saves a bit of GPU memory\n",
    "            \n",
    "            x, y = x.to(DEVICE,non_blocking=True), y.to(DEVICE,non_blocking=True)\n",
    "\n",
    "            with autocast(\"cuda\"):\n",
    "                outputs = model(x)                    # forward pass\n",
    "                loss = criterion(outputs, y)\n",
    "\n",
    "            if is_train:\n",
    "                scaler.scale(loss).backward()         # back-prop                \n",
    "                \n",
    "                # --- gradient clipping ---\n",
    "                scaler.unscale_(optimizer)            # un-scale the gradients that live on the model (needed for gradient clipping)\n",
    "                grad_norm = torch.nn.utils.clip_grad_norm_(model.parameters(), max_norm=1.0)\n",
    "                \n",
    "                scaler.step(optimizer)                # update params\n",
    "                scaler.update()                       # update scale factor    \n",
    "                if scheduler is not None:             # LR scheduler\n",
    "                    scheduler.step()\n",
    "\n",
    "            batch_size = x.shape[0]\n",
    "            run_loss += loss.item()*batch_size        # accumulate summed loss\n",
    "            run_correct += (outputs.argmax(1) == y).sum().item()\n",
    "            imgs_processed += batch_size              # add to throughput counter\n",
    "\n",
    "    torch.cuda.synchronize()                          # CPU waits until GPU finishes. More accurate dt.\n",
    "    dt = time.time() - t0                             # total epoch time in seconds\n",
    "    epoch_loss = run_loss / len(loader.dataset) \n",
    "    epoch_acc = run_correct / len(loader.dataset)\n",
    "    throughput = imgs_processed / dt\n",
    "    print(f\"{phase:5} | loss {epoch_loss:.4f} | acc {epoch_acc:.4f} | {dt:5.1f}s | {throughput:7.1f} samples/s\")\n",
    "    \n",
    "    if is_train:                                      # train phase only\n",
    "        print(f\"[Epoch {epoch_idx}] loss_scale={scaler.get_scale():.0f}  peak_mem={torch.cuda.max_memory_allocated()/1024**2:.0f} MB\")\n",
    "        torch.cuda.reset_peak_memory_stats()          # so next epoch starts fresh\n",
    "        \n",
    "    return epoch_loss, epoch_acc"
   ]
  },
  {
   "cell_type": "markdown",
   "id": "91897dda",
   "metadata": {
    "papermill": {
     "duration": 0.059329,
     "end_time": "2025-05-21T07:38:06.487547",
     "exception": false,
     "start_time": "2025-05-21T07:38:06.428218",
     "status": "completed"
    },
    "tags": []
   },
   "source": [
    "One function that handles both train (updates weights) and val/test (no grads).\n",
    "\n",
    "`torch.set_grad_enabled(False)` saves GPU RAM when evaluating. It is the same as `torch.no_grad`.\n",
    "\n",
    "`non_blocking=True` provides a subtle performance optimization when we set `pin_memory=True` in our `DataLoader`, which we already did. This allows the CPU to continue preparing the next batch while the current batch is being transferred to the GPU.\n",
    "\n",
    "Using `set_to_none=True` is optional, but it avoids writing zeros to every\n",
    "gradient tensor and can speed up large models.\n",
    "\n",
    "If you’re on GPU, kernels are asynchronous. Calling\n",
    "`torch.cuda.synchronize()` right before timing will make `dt` slightly more exact (at the cost of a tiny stall).\n",
    "\n",
    "`clip_grad_norm_` calculates global norm of the params, make sure that its length is no more than 1.0 (clip it), this helps prevent \"shocking\" the model when the loss (and thus the gradients) become too big for an unlucky batch.\n",
    "\n",
    "Why bother clipping?\n",
    "- Prevents exploding activations when a single bad mini-batch produces huge gradients.\n",
    "- Makes training more stable when you crank up the learning rate for large batches.\n",
    "- Adds almost zero overhead (one extra kernel)."
   ]
  },
  {
   "cell_type": "code",
   "execution_count": 12,
   "id": "1272d0aa",
   "metadata": {
    "execution": {
     "iopub.execute_input": "2025-05-21T07:38:06.607789Z",
     "iopub.status.busy": "2025-05-21T07:38:06.607531Z",
     "iopub.status.idle": "2025-05-21T07:38:06.611277Z",
     "shell.execute_reply": "2025-05-21T07:38:06.610711Z"
    },
    "papermill": {
     "duration": 0.065664,
     "end_time": "2025-05-21T07:38:06.612338",
     "exception": false,
     "start_time": "2025-05-21T07:38:06.546674",
     "status": "completed"
    },
    "tags": []
   },
   "outputs": [],
   "source": [
    "# Checkpoint helper\n",
    "def save_ckpt(state: Dict, name: str) -> None:\n",
    "    torch.save(state, CKPT_DIR / name)"
   ]
  },
  {
   "cell_type": "code",
   "execution_count": 13,
   "id": "7685161b",
   "metadata": {
    "execution": {
     "iopub.execute_input": "2025-05-21T07:38:06.734175Z",
     "iopub.status.busy": "2025-05-21T07:38:06.733485Z",
     "iopub.status.idle": "2025-05-21T07:38:06.736991Z",
     "shell.execute_reply": "2025-05-21T07:38:06.736500Z"
    },
    "papermill": {
     "duration": 0.065667,
     "end_time": "2025-05-21T07:38:06.737989",
     "exception": false,
     "start_time": "2025-05-21T07:38:06.672322",
     "status": "completed"
    },
    "tags": []
   },
   "outputs": [],
   "source": [
    "# 0) Before any training, create your metric containers:\n",
    "train_losses, train_accs = [], []\n",
    "val_losses,   val_accs   = [], []"
   ]
  },
  {
   "cell_type": "code",
   "execution_count": 14,
   "id": "3a019912",
   "metadata": {
    "execution": {
     "iopub.execute_input": "2025-05-21T07:38:06.860355Z",
     "iopub.status.busy": "2025-05-21T07:38:06.860084Z",
     "iopub.status.idle": "2025-05-21T08:06:46.838841Z",
     "shell.execute_reply": "2025-05-21T08:06:46.837837Z"
    },
    "papermill": {
     "duration": 1720.10268,
     "end_time": "2025-05-21T08:06:46.902543",
     "exception": false,
     "start_time": "2025-05-21T07:38:06.799863",
     "status": "completed"
    },
    "tags": []
   },
   "outputs": [
    {
     "name": "stdout",
     "output_type": "stream",
     "text": [
      "Phase 1: feature extraction\n",
      "\n",
      "Epoch 1/10\n",
      "train | loss 3.8938 | acc 0.2189 | 133.4s |   454.4 samples/s\n",
      "[Epoch 1] loss_scale=65536  peak_mem=759 MB\n",
      "val   | loss 2.7146 | acc 0.4365 |  37.6s |   403.1 samples/s\n",
      "\n",
      "Epoch 2/10\n",
      "train | loss 2.6651 | acc 0.3891 | 131.4s |   461.3 samples/s\n",
      "[Epoch 2] loss_scale=65536  peak_mem=759 MB\n",
      "val   | loss 2.0618 | acc 0.5004 |  38.0s |   398.4 samples/s\n",
      "\n",
      "Epoch 3/10\n",
      "train | loss 2.5446 | acc 0.4034 | 130.4s |   464.8 samples/s\n",
      "[Epoch 3] loss_scale=65536  peak_mem=759 MB\n",
      "val   | loss 2.0524 | acc 0.4986 |  38.0s |   398.9 samples/s\n",
      "\n",
      "Epoch 4/10\n",
      "train | loss 2.5759 | acc 0.4056 | 138.5s |   437.5 samples/s\n",
      "[Epoch 4] loss_scale=65536  peak_mem=759 MB\n",
      "val   | loss 1.9898 | acc 0.5114 |  38.6s |   392.3 samples/s\n",
      "\n",
      "Epoch 5/10\n",
      "train | loss 2.5644 | acc 0.4089 | 133.0s |   455.5 samples/s\n",
      "[Epoch 5] loss_scale=131072  peak_mem=759 MB\n",
      "val   | loss 1.9726 | acc 0.5191 |  37.5s |   404.0 samples/s\n",
      "\n",
      "Epoch 6/10\n",
      "train | loss 2.5206 | acc 0.4189 | 130.1s |   465.7 samples/s\n",
      "[Epoch 6] loss_scale=131072  peak_mem=759 MB\n",
      "val   | loss 1.9150 | acc 0.5310 |  38.4s |   394.4 samples/s\n",
      "\n",
      "Epoch 7/10\n",
      "train | loss 2.4336 | acc 0.4304 | 130.8s |   463.2 samples/s\n",
      "[Epoch 7] loss_scale=131072  peak_mem=759 MB\n",
      "val   | loss 1.8717 | acc 0.5365 |  38.0s |   399.1 samples/s\n",
      "\n",
      "Epoch 8/10\n",
      "train | loss 2.3650 | acc 0.4402 | 136.7s |   443.3 samples/s\n",
      "[Epoch 8] loss_scale=131072  peak_mem=759 MB\n",
      "val   | loss 1.8400 | acc 0.5455 |  39.0s |   388.5 samples/s\n",
      "\n",
      "Epoch 9/10\n",
      "train | loss 2.2903 | acc 0.4540 | 136.3s |   444.7 samples/s\n",
      "[Epoch 9] loss_scale=262144  peak_mem=759 MB\n",
      "val   | loss 1.8152 | acc 0.5512 |  38.1s |   397.7 samples/s\n",
      "\n",
      "Epoch 10/10\n",
      "train | loss 2.2763 | acc 0.4543 | 136.0s |   445.6 samples/s\n",
      "[Epoch 10] loss_scale=262144  peak_mem=759 MB\n",
      "val   | loss 1.8008 | acc 0.5543 |  38.8s |   390.1 samples/s\n"
     ]
    }
   ],
   "source": [
    "# Phase 1: feature extraction (freeze backbone, train only the new head)\n",
    "optimizer = optim.Adam(model.classifier[1].parameters(), lr=LR_HEAD)\n",
    "\n",
    "steps_per_epoch = len(loaders[\"train\"]) # how many batches per epoch\n",
    "total_steps = NUM_EPOCHS_PHASE1 * steps_per_epoch\n",
    "\n",
    "scheduler = OneCycleLR(\n",
    "    optimizer,\n",
    "    max_lr=LR_HEAD,\n",
    "    total_steps=total_steps,\n",
    "    pct_start=0.3,            # 30% of total steps for LR warm-up\n",
    "    anneal_strategy=\"cos\",    # cosine annealing down\n",
    ")\n",
    "\n",
    "best_val, patience_cnt = 1e9, 0\n",
    "\n",
    "print(\"Phase 1: feature extraction\")\n",
    "for epoch in range(1, NUM_EPOCHS_PHASE1+1):\n",
    "    print(f\"\\nEpoch {epoch}/{NUM_EPOCHS_PHASE1}\")\n",
    "    train_loss, train_acc = epoch_loop(\"train\", model, loaders[\"train\"], \n",
    "                                       optimizer, scheduler, epoch)\n",
    "    val_loss, val_acc = epoch_loop(\"val\", model, loaders[\"val\"])\n",
    "\n",
    "    # track metrics\n",
    "    train_losses.append(train_loss)\n",
    "    train_accs.append(train_acc)\n",
    "    val_losses.append(val_loss)\n",
    "    val_accs.append(val_acc)\n",
    "    \n",
    "    if val_loss < best_val:          # improved → save\n",
    "        best_val, patience_cnt = val_loss, 0\n",
    "        save_ckpt({\n",
    "            \"state_dict\": model.state_dict(),\n",
    "            \"optimizer\": optimizer.state_dict(),\n",
    "            \"scheduler\": scheduler.state_dict(),\n",
    "            \"scaler\": scaler.state_dict(),\n",
    "            \"epoch\": epoch,\n",
    "            \"val_acc\": val_acc\n",
    "        }, \"best_head.pth\")\n",
    "    else:                            # no improve\n",
    "        patience_cnt += 1\n",
    "        if patience_cnt >= PATIENCE:\n",
    "            print(\"Early stop triggered.\")\n",
    "            break\n",
    "    "
   ]
  },
  {
   "cell_type": "markdown",
   "id": "c9b84c80",
   "metadata": {
    "papermill": {
     "duration": 0.060561,
     "end_time": "2025-05-21T08:06:47.025811",
     "exception": false,
     "start_time": "2025-05-21T08:06:46.965250",
     "status": "completed"
    },
    "tags": []
   },
   "source": [
    "Classic training loop + early-stop: if validation loss stalls for 3 epochs, quit.\n",
    "\n",
    "At the start of training, a high learning rate helps you learn fast. Later, you want to reduce it so the model converges more smoothly and doesn’t overshoot.\n",
    "\n",
    "`loss_scale`:\n",
    "- Starts high (32 k–65 k) – normal.\n",
    "- Occasionally halves – AMP detected an overflow, skipped that update, and lowered the scale.\n",
    "- Oscillates between two values – healthy adaptation.\n",
    "- Keeps shrinking to 1 – lots of overflows → reduce LR, batch size, or use gradient clipping."
   ]
  },
  {
   "cell_type": "code",
   "execution_count": 15,
   "id": "e57f84cd",
   "metadata": {
    "execution": {
     "iopub.execute_input": "2025-05-21T08:06:47.148554Z",
     "iopub.status.busy": "2025-05-21T08:06:47.147946Z",
     "iopub.status.idle": "2025-05-21T08:06:47.151649Z",
     "shell.execute_reply": "2025-05-21T08:06:47.150938Z"
    },
    "papermill": {
     "duration": 0.066881,
     "end_time": "2025-05-21T08:06:47.152717",
     "exception": false,
     "start_time": "2025-05-21T08:06:47.085836",
     "status": "completed"
    },
    "tags": []
   },
   "outputs": [],
   "source": [
    "# del model\n",
    "# import gc\n",
    "# gc.collect()\n",
    "\n",
    "# import torch\n",
    "# torch.cuda.empty_cache()"
   ]
  },
  {
   "cell_type": "code",
   "execution_count": 16,
   "id": "462488c5",
   "metadata": {
    "execution": {
     "iopub.execute_input": "2025-05-21T08:06:47.274722Z",
     "iopub.status.busy": "2025-05-21T08:06:47.274012Z",
     "iopub.status.idle": "2025-05-21T08:45:14.742593Z",
     "shell.execute_reply": "2025-05-21T08:45:14.741649Z"
    },
    "papermill": {
     "duration": 2307.585641,
     "end_time": "2025-05-21T08:45:14.798617",
     "exception": false,
     "start_time": "2025-05-21T08:06:47.212976",
     "status": "completed"
    },
    "tags": []
   },
   "outputs": [
    {
     "name": "stdout",
     "output_type": "stream",
     "text": [
      "\n",
      " Unfreezing backbone...\n",
      "Phase 2: fine-tune\n",
      "\n",
      "Epoch 1/8\n"
     ]
    },
    {
     "name": "stderr",
     "output_type": "stream",
     "text": [
      "/usr/local/lib/python3.11/dist-packages/torch/optim/lr_scheduler.py:227: UserWarning: Detected call of `lr_scheduler.step()` before `optimizer.step()`. In PyTorch 1.1.0 and later, you should call them in the opposite order: `optimizer.step()` before `lr_scheduler.step()`.  Failure to do this will result in PyTorch skipping the first value of the learning rate schedule. See more details at https://pytorch.org/docs/stable/optim.html#how-to-adjust-learning-rate\n",
      "  warnings.warn(\n"
     ]
    },
    {
     "name": "stdout",
     "output_type": "stream",
     "text": [
      "train | loss 1.9177 | acc 0.5274 | 249.8s |   242.6 samples/s\n",
      "[Epoch 1] loss_scale=32768  peak_mem=8151 MB\n",
      "val   | loss 1.2161 | acc 0.6856 |  39.2s |   386.1 samples/s\n",
      "\n",
      "Epoch 2/8\n",
      "train | loss 1.4374 | acc 0.6346 | 249.5s |   242.9 samples/s\n",
      "[Epoch 2] loss_scale=32768  peak_mem=8151 MB\n",
      "val   | loss 0.9791 | acc 0.7416 |  38.0s |   398.4 samples/s\n",
      "\n",
      "Epoch 3/8\n",
      "train | loss 1.2228 | acc 0.6806 | 250.0s |   242.4 samples/s\n",
      "[Epoch 3] loss_scale=32768  peak_mem=8151 MB\n",
      "val   | loss 0.8701 | acc 0.7685 |  38.5s |   393.1 samples/s\n",
      "\n",
      "Epoch 4/8\n",
      "train | loss 1.0308 | acc 0.7290 | 250.0s |   242.4 samples/s\n",
      "[Epoch 4] loss_scale=32768  peak_mem=8151 MB\n",
      "val   | loss 0.7902 | acc 0.7955 |  38.3s |   395.6 samples/s\n",
      "\n",
      "Epoch 5/8\n",
      "train | loss 0.8710 | acc 0.7687 | 249.8s |   242.6 samples/s\n",
      "[Epoch 5] loss_scale=32768  peak_mem=8151 MB\n",
      "val   | loss 0.7433 | acc 0.8118 |  38.1s |   397.7 samples/s\n",
      "\n",
      "Epoch 6/8\n",
      "train | loss 0.7266 | acc 0.8044 | 249.9s |   242.5 samples/s\n",
      "[Epoch 6] loss_scale=32768  peak_mem=8151 MB\n",
      "val   | loss 0.7180 | acc 0.8246 |  38.2s |   396.3 samples/s\n",
      "\n",
      "Epoch 7/8\n",
      "train | loss 0.6347 | acc 0.8278 | 249.9s |   242.5 samples/s\n",
      "[Epoch 7] loss_scale=32768  peak_mem=8151 MB\n",
      "val   | loss 0.7097 | acc 0.8260 |  38.7s |   391.1 samples/s\n",
      "\n",
      "Epoch 8/8\n",
      "train | loss 0.5792 | acc 0.8441 | 249.9s |   242.5 samples/s\n",
      "[Epoch 8] loss_scale=32768  peak_mem=8151 MB\n",
      "val   | loss 0.7064 | acc 0.8292 |  37.7s |   401.5 samples/s\n"
     ]
    }
   ],
   "source": [
    "# Phase 2: fine-tune (unfreeze backbone, train whole model at lower LR)\n",
    "print(\"\\n Unfreezing backbone...\")\n",
    "for p in model.parameters():\n",
    "    p.requires_grad = True\n",
    "\n",
    "optimizer = optim.Adam(model.parameters(), lr=LR_BACKBONE)\n",
    "\n",
    "steps_per_epoch = len(loaders[\"train\"]) # how many batches per epoch\n",
    "total_steps = NUM_EPOCHS_PHASE2 * steps_per_epoch\n",
    "\n",
    "scheduler = OneCycleLR(\n",
    "    optimizer,\n",
    "    max_lr=LR_BACKBONE,\n",
    "    total_steps=total_steps,\n",
    "    pct_start=0.3,\n",
    "    anneal_strategy=\"cos\",\n",
    ")\n",
    "\n",
    "print(\"Phase 2: fine-tune\")\n",
    "for epoch in range(1, NUM_EPOCHS_PHASE2+1):\n",
    "    print(f\"\\nEpoch {epoch}/{NUM_EPOCHS_PHASE2}\")\n",
    "    train_loss, train_acc = epoch_loop(\"train\", model, loaders[\"train\"], \n",
    "                                       optimizer, scheduler, epoch)\n",
    "    val_loss, val_acc = epoch_loop(\"val\", model, loaders[\"val\"])\n",
    "\n",
    "    # track metrics\n",
    "    train_losses.append(train_loss)\n",
    "    train_accs.append(train_acc)\n",
    "    val_losses.append(val_loss)\n",
    "    val_accs.append(val_acc)\n",
    "    \n",
    "    save_ckpt({\n",
    "            \"state_dict\": model.state_dict(),\n",
    "            \"optimizer\": optimizer.state_dict(),\n",
    "            \"scheduler\": scheduler.state_dict(),\n",
    "            \"scaler\"     : scaler.state_dict(),\n",
    "            \"epoch\": epoch,\n",
    "            \"val_acc\": val_acc\n",
    "    }, f\"ft_epoch{epoch}.pth\")\n",
    "\n"
   ]
  },
  {
   "cell_type": "markdown",
   "id": "8cb7ab25",
   "metadata": {
    "papermill": {
     "duration": 0.063015,
     "end_time": "2025-05-21T08:45:14.923258",
     "exception": false,
     "start_time": "2025-05-21T08:45:14.860243",
     "status": "completed"
    },
    "tags": []
   },
   "source": [
    "We now let all layers learn but at a smaller LR to avoid wrecking pretrained features."
   ]
  },
  {
   "cell_type": "code",
   "execution_count": 17,
   "id": "22309eae",
   "metadata": {
    "execution": {
     "iopub.execute_input": "2025-05-21T08:45:15.056251Z",
     "iopub.status.busy": "2025-05-21T08:45:15.055557Z",
     "iopub.status.idle": "2025-05-21T08:45:15.440339Z",
     "shell.execute_reply": "2025-05-21T08:45:15.439723Z"
    },
    "papermill": {
     "duration": 0.454214,
     "end_time": "2025-05-21T08:45:15.441679",
     "exception": false,
     "start_time": "2025-05-21T08:45:14.987465",
     "status": "completed"
    },
    "tags": []
   },
   "outputs": [
    {
     "data": {
      "image/png": "[encoded data removed]",
      "text/plain": [
       "<Figure size 800x400 with 1 Axes>"
      ]
     },
     "metadata": {},
     "output_type": "display_data"
    },
    {
     "data": {
      "image/png": "[encoded data removed]",
      "text/plain": [
       "<Figure size 800x400 with 1 Axes>"
      ]
     },
     "metadata": {},
     "output_type": "display_data"
    }
   ],
   "source": [
    "# plot curves\n",
    "epochs = list(range(1, len(train_losses)+1))\n",
    "# epochs = [1, 2, 3]\n",
    "# train_losses, train_accs = [9, 8, 2], [5, 4, 2]\n",
    "# val_losses,   val_accs   = [12, 10, 5], [7, 4, 1]\n",
    "\n",
    "plt.figure(figsize=(8,4))\n",
    "plt.plot(epochs, train_losses, label=\"Train Loss\")\n",
    "plt.plot(epochs, val_losses, label=\"Validation Loss\")\n",
    "plt.xlabel(\"Epoch\")\n",
    "plt.ylabel(\"Loss\")\n",
    "plt.legend()\n",
    "plt.title(\"Loss vs. Epoch\")\n",
    "plt.show()\n",
    "\n",
    "plt.figure(figsize=(8,4))\n",
    "plt.plot(epochs, train_accs, label=\"Train Acc\")\n",
    "plt.plot(epochs, val_accs,   label=\"Validation Acc\")\n",
    "plt.xlabel(\"Epoch\")\n",
    "plt.ylabel(\"Accuracy\")\n",
    "plt.legend()\n",
    "plt.title(\"Accuracy vs. Epoch\")\n",
    "plt.show()"
   ]
  },
  {
   "cell_type": "code",
   "execution_count": 18,
   "id": "28d18f4a",
   "metadata": {
    "execution": {
     "iopub.execute_input": "2025-05-21T08:45:15.569593Z",
     "iopub.status.busy": "2025-05-21T08:45:15.569295Z",
     "iopub.status.idle": "2025-05-21T08:46:18.725780Z",
     "shell.execute_reply": "2025-05-21T08:46:18.724867Z"
    },
    "papermill": {
     "duration": 63.284768,
     "end_time": "2025-05-21T08:46:18.790609",
     "exception": false,
     "start_time": "2025-05-21T08:45:15.505841",
     "status": "completed"
    },
    "tags": []
   },
   "outputs": [
    {
     "name": "stdout",
     "output_type": "stream",
     "text": [
      "test  | loss 0.4774 | acc 0.8672 |  63.1s |   399.9 samples/s\n",
      "Final Test Acc: 0.8672\n"
     ]
    }
   ],
   "source": [
    "# Final test\n",
    "model.eval()\n",
    "_, test_acc = epoch_loop(\"test\", model, loaders[\"test\"])\n",
    "print(f\"Final Test Acc: {test_acc:.4f}\")"
   ]
  },
  {
   "cell_type": "markdown",
   "id": "4f35e01b",
   "metadata": {
    "papermill": {
     "duration": 0.064266,
     "end_time": "2025-05-21T08:46:18.920767",
     "exception": false,
     "start_time": "2025-05-21T08:46:18.856501",
     "status": "completed"
    },
    "tags": []
   },
   "source": [
    "Turn off training mode, run once on the held-out test set → final score."
   ]
  }
 ],
 "metadata": {
  "kaggle": {
   "accelerator": "gpu",
   "dataSources": [],
   "isGpuEnabled": true,
   "isInternetEnabled": true,
   "language": "python",
   "sourceType": "notebook"
  },
  "kernelspec": {
   "display_name": "Python 3",
   "language": "python",
   "name": "python3"
  },
  "language_info": {
   "codemirror_mode": {
    "name": "ipython",
    "version": 3
   },
   "file_extension": ".py",
   "mimetype": "text/x-python",
   "name": "python",
   "nbconvert_exporter": "python",
   "pygments_lexer": "ipython3",
   "version": "3.11.11"
  },
  "papermill": {
   "default_parameters": {},
   "duration": 4390.252675,
   "end_time": "2025-05-21T08:46:22.791661",
   "environment_variables": {},
   "exception": null,
   "input_path": "__notebook__.ipynb",
   "output_path": "__notebook__.ipynb",
   "parameters": {},
   "start_time": "2025-05-21T07:33:12.538986",
   "version": "2.6.0"
  }
 },
 "nbformat": 4,
 "nbformat_minor": 5
}
